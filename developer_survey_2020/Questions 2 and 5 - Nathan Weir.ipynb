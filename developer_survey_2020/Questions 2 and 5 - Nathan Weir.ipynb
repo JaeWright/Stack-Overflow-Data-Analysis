{
 "cells": [
  {
   "cell_type": "code",
   "execution_count": 190,
   "metadata": {},
   "outputs": [],
   "source": [
    "# Project Group 18\n",
    "# Nathan Weir (100779098)"
   ]
  },
  {
   "cell_type": "code",
   "execution_count": 191,
   "metadata": {},
   "outputs": [],
   "source": [
    "#importing used libraries\n",
    "import csv\n",
    "import re\n",
    "from functools import reduce\n",
    "import numpy as np\n",
    "\n",
    "# this aux function reads the CSV file and returns the data in a Python dictionary\n",
    "def get_data_csv():\n",
    "    collection = []\n",
    "    with open('survey_results_public.csv', 'r') as f:\n",
    "        for line in csv.DictReader(f):\n",
    "            collection.append(line)\n",
    "        return collection\n",
    "    \n",
    "def get_desc_csv():\n",
    "    collection = []\n",
    "    # Changed the encoding to open the file properly on my computer.\n",
    "    with open('survey_results_schema.csv', encoding=\"utf8\") as f:\n",
    "        for line in csv.DictReader(f):\n",
    "            collection.append(line)\n",
    "        return collection\n",
    "        \n",
    "# the data    \n",
    "data = get_data_csv()\n",
    "desc = get_desc_csv()"
   ]
  },
  {
   "cell_type": "markdown",
   "metadata": {},
   "source": [
    "## Research questions being solved: \n",
    "\n",
    "#### 2. What are the work hours like for each scale of business(eg. Large, small, medium)? Does overtime vary depending on the scale of the business? How are the developers job satisfaction affected by these factors?\n",
    "    - We want to find how satisfied developers are in working overtime, and\n",
    "    see what different scale businesses ask of their devs\n",
    "    \n",
    "#### 5. How does developer salary differ by location?"
   ]
  },
  {
   "cell_type": "markdown",
   "metadata": {},
   "source": [
    "#### Question 2.\n",
    "\n",
    "The next cell defines the four categories of organization sizes that will be compared. 1,000+ employees is a \"large organization\", 20 - 999 employees is a \"medium organization\", 2 - 20 is a \"small organization\", and just 1 employee is a \"solo organization."
   ]
  },
  {
   "cell_type": "code",
   "execution_count": 192,
   "metadata": {},
   "outputs": [],
   "source": [
    "# Defines the size of each organization.\n",
    "\n",
    "# List of all elements with an OrgSize with 1,000 or more employees.\n",
    "largeOrgSize = list(filter(lambda i: (i['OrgSize']=='1,000 to 4,999 employees') or\n",
    "                                     (i['OrgSize']=='5,000 to 9,999 employees') or\n",
    "                                     (i['OrgSize']=='10,000 or more employees'), data))\n",
    "\n",
    "# List of all elements with an OrgSize between 20 and 999 employees\n",
    "mediumOrgSize = list(filter(lambda i: (i['OrgSize']=='500 to 999 employees') or\n",
    "                                      (i['OrgSize']=='100 to 499 employees') or\n",
    "                                      (i['OrgSize']=='20 to 99 employees'), data))\n",
    "\n",
    "# List of all elements with an OrgSize between 2 and 19 employees\n",
    "smallOrgSize = list(filter(lambda i: (i['OrgSize']=='10 to 19 employees') or \n",
    "                                     (i['OrgSize']=='2 to 9 employees'), data))\n",
    "\n",
    "# List of all elements with a single employee\n",
    "soloOrgSize = list(filter(lambda i: (i['OrgSize']=='Just me - I am a freelancer, sole proprietor, etc.'), data))"
   ]
  },
  {
   "cell_type": "markdown",
   "metadata": {},
   "source": [
    "Next, we will find the average (mean) hours worked per organization size.\n",
    "<br>\n",
    "This will answer the question: \"What are the work hours like for each scale of business(eg. Large, small, medium)?\""
   ]
  },
  {
   "cell_type": "code",
   "execution_count": 193,
   "metadata": {},
   "outputs": [
    {
     "name": "stdout",
     "output_type": "stream",
     "text": [
      "- Work hours per week from respondents in a 'large organization' are on average 41.04,\n",
      "- Work hours per week from respondents in a 'medium organization' are on average 40.83,\n",
      "- Work hours per week from respondents in a 'small organization' are on average 40.6,\n",
      "- Work hours per week from respondents in a 'solo organization' are on average 39.78.\n",
      "\n",
      "Work hours slightly decreases on average as the size of the organization decreases.\n",
      "\n"
     ]
    }
   ],
   "source": [
    "# Prints the mean hours worked per organization size.\n",
    "\n",
    "import statistics\n",
    "\n",
    "hoursLargeMean = list(map(lambda x : x['WorkWeekHrs'], largeOrgSize)) # Get the work week hours for the \"large organization\" size\n",
    "hoursLargeMean = list(filter(lambda i: i!='NA', hoursLargeMean))      # Remove all instances of 'NA'\n",
    "hoursLargeMean = list(map(lambda x : float(x), hoursLargeMean))       # Convert the hours to numeric\n",
    "meanLarge = statistics.mean(hoursLargeMean)                           # Get mean\n",
    "\n",
    "hoursMediumMean = list(map(lambda x : x['WorkWeekHrs'], mediumOrgSize)) # Same method but for the \"medium organization\" size\n",
    "hoursMediumMean = list(filter(lambda i: i!='NA', hoursMediumMean))\n",
    "hoursMediumMean = list(map(lambda x : float(x), hoursMediumMean))\n",
    "meanMedium = statistics.mean(hoursMediumMean)\n",
    "\n",
    "hoursSmallmean = list(map(lambda x : x['WorkWeekHrs'], smallOrgSize)) # Same method but for the \"small organization\" size\n",
    "hoursSmallmean = list(filter(lambda i: i!='NA', hoursSmallmean))\n",
    "hoursSmallmean = list(map(lambda x : float(x), hoursSmallmean))\n",
    "meanSmall = statistics.mean(hoursSmallmean)\n",
    "\n",
    "hoursSoloMean = list(map(lambda x : x['WorkWeekHrs'], soloOrgSize)) #S ame method but for the \"solo organization\" size\n",
    "hoursSoloMean = list(filter(lambda i: i!='NA', hoursSoloMean))\n",
    "hoursSoloMean = list(map(lambda x : float(x), hoursSoloMean))\n",
    "meanSolo = statistics.mean(hoursSoloMean)\n",
    "\n",
    "# Print out results\n",
    "print(f\"- Work hours per week from respondents in a 'large organization' are on average {round(meanLarge, 2)},\")\n",
    "print(f\"- Work hours per week from respondents in a 'medium organization' are on average {round(meanMedium, 2)},\")\n",
    "print(f\"- Work hours per week from respondents in a 'small organization' are on average {round(meanSmall, 2)},\")\n",
    "print(f\"- Work hours per week from respondents in a 'solo organization' are on average {round(meanSolo, 2)}.\")\n",
    "print('\\nWork hours slightly decreases on average as the size of the organization decreases.\\n')"
   ]
  },
  {
   "cell_type": "markdown",
   "metadata": {},
   "source": [
    "Next, we will find the most common response from respondants about their overtime work hours per organization size.\n",
    "<br>\n",
    "This will answer the question: \"Does overtime vary depending on the scale of the business?\""
   ]
  },
  {
   "cell_type": "code",
   "execution_count": 194,
   "metadata": {},
   "outputs": [
    {
     "name": "stdout",
     "output_type": "stream",
     "text": [
      "- Overtime from respondents in a 'large organization' are most commonly 'Sometimes: 1-2 days per month but less than weekly',\n",
      "- Overtime from respondents in a 'medium organization' are most commonly 'Sometimes: 1-2 days per month but less than weekly',\n",
      "- Overtime from respondents in a 'small organization' are most commonly 'Often: 1-2 days per week or more',\n",
      "- Overtime from respondents in a 'solo organization' are most commonly 'Often: 1-2 days per week or more'.\n",
      "\n",
      "Overtime increases as the size of the organization decreases.\n",
      "\n"
     ]
    }
   ],
   "source": [
    "# Prints the most common response from respondants about their overtime work hours per organization size.\n",
    "\n",
    "# Returns the most frequent value in a list.\n",
    "def most_frequent(x):\n",
    "    return max(set(x), key = x.count)\n",
    "\n",
    "frequentLargeOvertimeList = list(map(lambda x : x['NEWOvertime'], largeOrgSize))        # Get the overtime responses for the \"large organization\" size\n",
    "frequentLargeOvertimeList = list(filter(lambda i: i!='NA', frequentLargeOvertimeList))  # Remove all instances of 'NA'\n",
    "frequentLargeOvertime = most_frequent(frequentLargeOvertimeList)                        # Get the most frequent response\n",
    "\n",
    "frequentMediumOvertimeList = list(map(lambda x : x['NEWOvertime'], mediumOrgSize))      # Same method but for the \"medium organization\" size\n",
    "frequentMediumOvertimeList = list(filter(lambda i: i!='NA', frequentMediumOvertimeList))\n",
    "frequentMediumOvertime = most_frequent(frequentMediumOvertimeList)\n",
    "\n",
    "frequentSmallOvertimeList = list(map(lambda x : x['NEWOvertime'], smallOrgSize))        # Same method but for the \"small organization\" size\n",
    "frequentSmallOvertimeList = list(filter(lambda i: i!='NA', frequentSmallOvertimeList))\n",
    "frequentSmallOvertime = most_frequent(frequentSmallOvertimeList)\n",
    "\n",
    "frequentSoloOvertimeList = list(map(lambda x : x['NEWOvertime'], soloOrgSize))          # Same method but for the \"solo organization\" size\n",
    "frequentSoloOvertimeList = list(filter(lambda i: i!='NA', frequentSoloOvertimeList))\n",
    "frequentSoloOvertime = most_frequent(frequentSoloOvertimeList)\n",
    "\n",
    "# Print out results\n",
    "print(f\"- Overtime from respondents in a 'large organization' are most commonly '{frequentLargeOvertime}',\")\n",
    "print(f\"- Overtime from respondents in a 'medium organization' are most commonly '{frequentMediumOvertime}',\")\n",
    "print(f\"- Overtime from respondents in a 'small organization' are most commonly '{frequentSmallOvertime}',\")\n",
    "print(f\"- Overtime from respondents in a 'solo organization' are most commonly '{frequentSoloOvertime}'.\")\n",
    "print('\\nOvertime increases as the size of the organization decreases.\\n')"
   ]
  },
  {
   "cell_type": "markdown",
   "metadata": {},
   "source": [
    "Next, we will find the most common response from respondants about their job satisfaction.\n",
    "<br>\n",
    "This will answer the question: \"How are the developers job satisfaction affected by these factors?\""
   ]
  },
  {
   "cell_type": "code",
   "execution_count": 195,
   "metadata": {},
   "outputs": [
    {
     "name": "stdout",
     "output_type": "stream",
     "text": [
      "- Work satisfaction from respondents in a 'large organization' are most commonly 'Very satisfied',\n",
      "- Work satisfaction from respondents in a 'medium organization' are most commonly 'Very satisfied',\n",
      "- Work satisfaction from respondents in a 'small organization' are most commonly 'Very satisfied',\n",
      "- Work satisfaction from respondents in a 'solo organization' are most commonly 'Very satisfied'.\n",
      "\n",
      "Work satisfaction generally stays the same.\n",
      "\n"
     ]
    }
   ],
   "source": [
    "# Prints the most common response from respondants about their job satisfaction.\n",
    "\n",
    "frequentLargeSatisfactionList = list(map(lambda x : x['JobSat'], largeOrgSize)) # Get the job satisfaction responses for the \"large organization\" size\n",
    "frequentLargeSatisfactionList = list(filter(lambda i: i!='NA', frequentLargeSatisfactionList)) # Remove all instances of 'NA'\n",
    "frequentLargeSatisfaction = most_frequent(frequentLargeSatisfactionList) # Get the most frequent response.\n",
    "#  See previous code cell for \"most_frequent\" function.\n",
    "\n",
    "frequentMediumSatisfactionList = list(map(lambda x : x['JobSat'], mediumOrgSize)) # Same method but for the \"medium organization\" size\n",
    "frequentMediumSatisfactionList = list(filter(lambda i: i!='NA', frequentMediumSatisfactionList))\n",
    "frequentMediumSatisfaction = most_frequent(frequentMediumSatisfactionList)\n",
    "\n",
    "frequentSmallSatisfactionList = list(map(lambda x : x['JobSat'], smallOrgSize)) # Same method but for the \"small organization\" size\n",
    "frequentSmallSatisfactionList = list(filter(lambda i: i!='NA', frequentSmallSatisfactionList))\n",
    "frequentSmallSatisfaction = most_frequent(frequentSmallSatisfactionList)\n",
    "\n",
    "frequentSoloSatisfactionList = list(map(lambda x : x['JobSat'], soloOrgSize)) # Same method but for the \"solo organization\" size\n",
    "frequentSoloSatisfactionList = list(filter(lambda i: i!='NA', frequentSoloSatisfactionList))\n",
    "frequentSoloSatisfaction = most_frequent(frequentSoloSatisfactionList)\n",
    "\n",
    "# Print out results\n",
    "print(f\"- Work satisfaction from respondents in a 'large organization' are most commonly '{frequentLargeSatisfaction}',\")\n",
    "print(f\"- Work satisfaction from respondents in a 'medium organization' are most commonly '{frequentMediumSatisfaction}',\")\n",
    "print(f\"- Work satisfaction from respondents in a 'small organization' are most commonly '{frequentSmallSatisfaction}',\")\n",
    "print(f\"- Work satisfaction from respondents in a 'solo organization' are most commonly '{frequentSoloSatisfaction}'.\")\n",
    "print('\\nWork satisfaction generally stays the same.\\n')"
   ]
  },
  {
   "cell_type": "markdown",
   "metadata": {},
   "source": [
    "To find some deeper information about the respondant's job satisfaction, we will find the percentage of people who are \"very dissatisfied\" and \"very satisfied\" with their job.\n",
    "<br>\n",
    "This will help to answer the question: \"How are the developers job satisfaction affected by these factors?\""
   ]
  },
  {
   "cell_type": "code",
   "execution_count": 196,
   "metadata": {},
   "outputs": [
    {
     "name": "stdout",
     "output_type": "stream",
     "text": [
      "- Percentage of people 'very dissatisfied' with their work in a 'large organization' is '7.993117472235258',\n",
      "- Percentage of people 'very dissatisfied' with their work in a 'medium organization' is '7.92074434749072',\n",
      "- Percentage of people 'very dissatisfied' with their work in a 'small organization' is '9.36435201503936',\n",
      "- Percentage of people 'very dissatisfied' with their work in a 'solo organization' is '9.132629646626892'.\n",
      "\n",
      "The percentage of people who are very dissatisfied with their work has a slight upwards trend as the size decreases.\n",
      "\n",
      "- Percentage of people 'very satisfied' with their work in a 'large organization' is '31.886438291881745',\n",
      "- Percentage of people 'very satisfied' with their work in a 'medium organization' is '32.23256038181555',\n",
      "- Percentage of people 'very satisfied' with their work in a 'small organization' is '32.44037128422042',\n",
      "- Percentage of people 'very satisfied' with their work in a 'solo organization' is '36.255162918770075'.\n",
      "\n",
      "The percentage of people who are satasfied with their work also has a slight upwards trend as the size decreases, on a slightly larger upwards trend than people very dissatisfied.\n"
     ]
    }
   ],
   "source": [
    "# Prints the most average percentage of respondants who are \"very dissatisfied\" and \"very satisfied\" with their job.\n",
    "\n",
    "# Divides the amount of people who are \"very dissatisfied\" by the length of the list of people in a \"large organization\".\n",
    "percentageUnsatasfiedLarge = frequentLargeSatisfactionList.count('Very dissatisfied')/len(frequentLargeSatisfactionList)\n",
    "# Converts the number into a percentage.\n",
    "percentageUnsatasfiedLarge = percentageUnsatasfiedLarge*100\n",
    "\n",
    "# Same method but for the \"medium organization\" size\n",
    "percentageUnsatasfiedMedium = frequentMediumSatisfactionList.count('Very dissatisfied')/len(frequentMediumSatisfactionList)\n",
    "percentageUnsatasfiedMedium = percentageUnsatasfiedMedium*100\n",
    "\n",
    "# Same method but for the \"small organization\" size\n",
    "percentageUnsatasfiedSmall = frequentSmallSatisfactionList.count('Very dissatisfied')/len(frequentSmallSatisfactionList)\n",
    "percentageUnsatasfiedSmall = percentageUnsatasfiedSmall*100\n",
    "\n",
    "# Same method but for the \"solo organization\" size\n",
    "percentageUnsatasfiedSolo = frequentSoloSatisfactionList.count('Very dissatisfied')/len(frequentSoloSatisfactionList)\n",
    "percentageUnsatasfiedSolo = percentageUnsatasfiedSolo*100\n",
    "\n",
    "# Print out the results for people who are \"very dissatisfied\"\n",
    "print(f\"- Percentage of people 'very dissatisfied' with their work in a 'large organization' is '{percentageUnsatasfiedLarge}',\")\n",
    "print(f\"- Percentage of people 'very dissatisfied' with their work in a 'medium organization' is '{percentageUnsatasfiedMedium}',\")\n",
    "print(f\"- Percentage of people 'very dissatisfied' with their work in a 'small organization' is '{percentageUnsatasfiedSmall}',\")\n",
    "print(f\"- Percentage of people 'very dissatisfied' with their work in a 'solo organization' is '{percentageUnsatasfiedSolo}'.\")\n",
    "print('\\nThe percentage of people who are very dissatisfied with their work has a slight upwards trend as the size decreases.\\n')\n",
    "\n",
    "# Same method but for the people who are \"very satisfied\" in the \"large organization\" size\n",
    "percentageSatasfiedLarge = frequentLargeSatisfactionList.count('Very satisfied')/len(frequentLargeSatisfactionList)\n",
    "percentageSatasfiedLarge = percentageSatasfiedLarge*100\n",
    "\n",
    "# Same method but for the people who are \"very satisfied\" in the \"medium organization\" size\n",
    "percentageSatasfiedMedium = frequentMediumSatisfactionList.count('Very satisfied')/len(frequentMediumSatisfactionList)\n",
    "percentageSatasfiedMedium = percentageSatasfiedMedium*100\n",
    "\n",
    "# Same method but for the people who are \"very satisfied\" in the \"small organization\" size\n",
    "percentageSatasfiedSmall = frequentSmallSatisfactionList.count('Very satisfied')/len(frequentSmallSatisfactionList)\n",
    "percentageSatasfiedSmall = percentageSatasfiedSmall*100\n",
    "\n",
    "# Same method but for the people who are \"very satisfied\" in the \"solo organization\" size\n",
    "percentageSatasfiedSolo = frequentSoloSatisfactionList.count('Very satisfied')/len(frequentSoloSatisfactionList)\n",
    "percentageSatasfiedSolo = percentageSatasfiedSolo*100\n",
    "\n",
    "# Print out the results for people who are \"very satisfied\"\n",
    "print(f\"- Percentage of people 'very satisfied' with their work in a 'large organization' is '{percentageSatasfiedLarge}',\")\n",
    "print(f\"- Percentage of people 'very satisfied' with their work in a 'medium organization' is '{percentageSatasfiedMedium}',\")\n",
    "print(f\"- Percentage of people 'very satisfied' with their work in a 'small organization' is '{percentageSatasfiedSmall}',\")\n",
    "print(f\"- Percentage of people 'very satisfied' with their work in a 'solo organization' is '{percentageSatasfiedSolo}'.\")\n",
    "print('\\nThe percentage of people who are satasfied with their work also has a slight upwards trend as the size decreases, on a slightly larger upwards trend than people very dissatisfied.')"
   ]
  },
  {
   "cell_type": "markdown",
   "metadata": {},
   "source": [
    "#### Question 5.\n",
    "\n",
    "The next cell gets the data as a dataframe."
   ]
  },
  {
   "cell_type": "code",
   "execution_count": 197,
   "metadata": {},
   "outputs": [],
   "source": [
    "import pandas as pd\n",
    "df = pd.DataFrame(data)"
   ]
  },
  {
   "cell_type": "markdown",
   "metadata": {},
   "source": [
    "Next, we will find the highest and lowest 5 average salaries per location."
   ]
  },
  {
   "cell_type": "code",
   "execution_count": 200,
   "metadata": {},
   "outputs": [
    {
     "name": "stdout",
     "output_type": "stream",
     "text": [
      "The top 5 locations by average salary are:\n",
      "\n",
      "                          Country  ConvertedComp\n",
      "                         Nomadic      310924.14\n",
      "Lao People's Democratic Republic      231275.25\n",
      "                   United States      208826.50\n",
      "                         Ireland      183000.74\n",
      "                     Afghanistan      148290.12\n",
      "\n",
      "The bottom 5 locations by average salary are:\n",
      "\n",
      "           Country  ConvertedComp\n",
      "         Cameroon         4450.6\n",
      "     Burkina Faso         3960.0\n",
      "            Sudan         3795.0\n",
      "Brunei Darussalam         2580.0\n",
      "          Lesotho           24.0\n"
     ]
    }
   ],
   "source": [
    "# Find the highest and lowest 5 average salaries per location.\n",
    "\n",
    "locations = df[['Country', 'ConvertedComp']][df.ConvertedComp != 'NA']             # Make a pandas dataFrame with Country and Salary as the columns\n",
    "locations['ConvertedComp'] = locations['ConvertedComp'].apply(lambda x : float(x)) # Convert all values to float\n",
    "locations = pd.DataFrame(locations.groupby('Country')['ConvertedComp'].mean())     # Get the mean of all Salaries per Country\n",
    "locations.reset_index(level=0, inplace=True)                                       # Reset index\n",
    "locations = locations.sort_values(by = ['ConvertedComp'], ascending = False)       # Sort the values in descending order\n",
    "\n",
    "locationsTop5 = round(locations.head(5), 2)                                        # Get top 5 locations and round to two decimals\n",
    "\n",
    "# Print results\n",
    "print(f'The top 5 locations by average salary are:\\n\\n {locationsTop5.to_string(index=False)}\\n')\n",
    "\n",
    "locationsBottom5 = round(locations.tail(5), 2)                                     # Get bottom 5 locations and round to two decimals\n",
    "\n",
    "#Print results\n",
    "print(f'The bottom 5 locations by average salary are:\\n\\n {locationsBottom5.to_string(index=False)}')"
   ]
  },
  {
   "cell_type": "code",
   "execution_count": null,
   "metadata": {},
   "outputs": [],
   "source": []
  }
 ],
 "metadata": {
  "kernelspec": {
   "display_name": "Python 3",
   "language": "python",
   "name": "python3"
  },
  "language_info": {
   "codemirror_mode": {
    "name": "ipython",
    "version": 3
   },
   "file_extension": ".py",
   "mimetype": "text/x-python",
   "name": "python",
   "nbconvert_exporter": "python",
   "pygments_lexer": "ipython3",
   "version": "3.7.6"
  }
 },
 "nbformat": 4,
 "nbformat_minor": 5
}
