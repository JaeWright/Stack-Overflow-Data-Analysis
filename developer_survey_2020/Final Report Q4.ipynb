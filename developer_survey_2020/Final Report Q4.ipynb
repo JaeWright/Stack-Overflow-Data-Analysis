{
 "cells": [
  {
   "cell_type": "markdown",
   "id": "d07153f5",
   "metadata": {},
   "source": [
    "Question 4: Does education level play a role in the career of a developer?"
   ]
  },
  {
   "cell_type": "code",
   "execution_count": 1,
   "id": "9876b898",
   "metadata": {},
   "outputs": [],
   "source": [
    "#importing used libraries\n",
    "import csv\n",
    "import re\n",
    "from functools import reduce\n",
    "import numpy as np\n",
    "import pandas as pd\n",
    "import matplotlib.pyplot as plt\n",
    "\n",
    "# this aux function reads the CSV file and returns the data in a Python dictionary\n",
    "def get_data_csv():\n",
    "    collection = []\n",
    "    with open('survey_results_public.csv', 'r') as f:\n",
    "        for line in csv.DictReader(f):\n",
    "            collection.append(line)\n",
    "        return collection\n",
    "    \n",
    "def get_desc_csv():\n",
    "    collection = []\n",
    "    with open('survey_results_schema.csv', 'r') as f:\n",
    "        for line in csv.DictReader(f):\n",
    "            collection.append(line)\n",
    "        return collection\n",
    "        \n",
    "# the data    \n",
    "data = get_data_csv()\n",
    "desc = get_desc_csv()\n"
   ]
  },
  {
   "cell_type": "code",
   "execution_count": 2,
   "id": "03e7b22f",
   "metadata": {},
   "outputs": [
    {
     "name": "stdout",
     "output_type": "stream",
     "text": [
      "Average total earnings per education level:\n",
      "[1.9493177387914212e+244, 'NA']\n",
      "[5.916109566349169e+145, 'Bachelor’s degree (B.A., B.S., B.Eng., etc.)']\n",
      "[6.493506493506494e+53, 'Primary/elementary school']\n",
      "[2.442002442002442e+32, 'Some college/university study without earning a degree']\n",
      "[6.114849734627837e+27, 'Secondary school (e.g. American high school, German Realschule or Gymnasium, etc.)']\n",
      "[116304431167.58345, 'Master’s degree (M.A., M.S., M.Eng., MBA, etc.)']\n",
      "[74944036.31818181, 'I never completed any formal education']\n",
      "[15144731.52620545, 'Professional degree (JD, MD, etc.)']\n",
      "[5290661.470742358, 'Other doctoral degree (Ph.D., Ed.D., etc.)']\n",
      "[1203107.806837607, 'Associate degree (A.A., A.S., etc.)']\n",
      "\n"
     ]
    }
   ],
   "source": [
    "import statistics\n",
    "#creating list of categories for each education level\n",
    "education = list(map(lambda x : x['EdLevel'], data))\n",
    "categories = sorted(set(education))\n",
    "\n",
    "#finding indexes for all education levels\n",
    "bachelor = list(filter(lambda i: (i['EdLevel']=='Bachelor’s degree (B.A., B.S., B.Eng., etc.)'),data))\n",
    "master = list(filter(lambda i: (i['EdLevel']=='Master’s degree (M.A., M.S., M.Eng., MBA, etc.)'),data))\n",
    "notCompleted = list(filter(lambda i: (i['EdLevel']=='I never completed any formal education'),data))\n",
    "college = list(filter(lambda i: (i['EdLevel']=='Some college/university study without earning a degree'),data))\n",
    "secondary = list(filter(lambda i: (i['EdLevel']=='Secondary school (e.g. American high school, German Realschule or Gymnasium, etc.)'),data))\n",
    "doctoral = list(filter(lambda i: (i['EdLevel']=='Other doctoral degree (Ph.D., Ed.D., etc.)'),data))\n",
    "associate = list(filter(lambda i: (i['EdLevel']=='Associate degree (A.A., A.S., etc.)'),data))\n",
    "primary = list(filter(lambda i: (i['EdLevel']=='Primary/elementary school'),data))\n",
    "pro = list(filter(lambda i: (i['EdLevel']=='Professional degree (JD, MD, etc.)'),data))\n",
    "na = list(filter(lambda i: (i['EdLevel']=='NA'),data))\n",
    "\n",
    "#cleaning up values, calculating means, and adding to list for sorting\n",
    "means = []\n",
    "aMean = list(map(lambda x : x['CompTotal'], associate))\n",
    "aMean = list(filter(lambda i: i!='NA', aMean))\n",
    "aMean = list(map(lambda x : float(x), aMean))\n",
    "aMean = statistics.mean(aMean)\n",
    "means.append(aMean)\n",
    "\n",
    "bMean = list(map(lambda x : x['CompTotal'], bachelor))\n",
    "bMean = list(filter(lambda i: i!='NA', bMean))\n",
    "bMean = list(map(lambda x : float(x), bMean))\n",
    "bMean = statistics.mean(bMean)\n",
    "means.append(bMean)\n",
    "\n",
    "ncMean = list(map(lambda x : x['CompTotal'], notCompleted))\n",
    "ncMean = list(filter(lambda i: i!='NA', ncMean))\n",
    "ncMean = list(map(lambda x : float(x), ncMean))\n",
    "ncMean = statistics.mean(ncMean)\n",
    "means.append(ncMean)\n",
    "\n",
    "mMean = list(map(lambda x : x['CompTotal'], master))\n",
    "mMean = list(filter(lambda i: i!='NA', mMean))\n",
    "mMean = list(map(lambda x : float(x), mMean))\n",
    "mMean = statistics.mean(mMean)\n",
    "means.append(mMean)\n",
    "\n",
    "naMean = list(map(lambda x : x['CompTotal'], na))\n",
    "naMean = list(filter(lambda i: i!='NA', naMean))\n",
    "naMean = list(map(lambda x : float(x), naMean))\n",
    "naMean = statistics.mean(naMean)\n",
    "means.append(naMean)\n",
    "\n",
    "dMean = list(map(lambda x : x['CompTotal'], doctoral))\n",
    "dMean = list(filter(lambda i: i!='NA', dMean))\n",
    "dMean = list(map(lambda x : float(x), dMean))\n",
    "dMean = statistics.mean(dMean)\n",
    "means.append(dMean)\n",
    "\n",
    "pMean = list(map(lambda x : x['CompTotal'], primary))\n",
    "pMean = list(filter(lambda i: i!='NA', pMean))\n",
    "pMean = list(map(lambda x : float(x), pMean))\n",
    "pMean = statistics.mean(pMean)\n",
    "means.append(pMean)\n",
    "\n",
    "proMean = list(map(lambda x : x['CompTotal'], pro))\n",
    "proMean = list(filter(lambda i: i!='NA', proMean))\n",
    "proMean = list(map(lambda x : float(x), proMean))\n",
    "proMean = statistics.mean(proMean)\n",
    "means.append(proMean)\n",
    "\n",
    "sMean = list(map(lambda x : x['CompTotal'], secondary))\n",
    "sMean = list(filter(lambda i: i!='NA', sMean))\n",
    "sMean = list(map(lambda x : float(x), sMean))\n",
    "sMean = statistics.mean(sMean)\n",
    "means.append(sMean)\n",
    "\n",
    "cMean = list(map(lambda x : x['CompTotal'], college))\n",
    "cMean = list(filter(lambda i: i!='NA', cMean))\n",
    "cMean = list(map(lambda x : float(x), cMean))\n",
    "cMean = statistics.mean(cMean)\n",
    "means.append(cMean)\n",
    "\n",
    "#sorting output and printing average salary per education level\n",
    "output = list(map(lambda x,y: [y,x],categories,means))\n",
    "output = sorted(output, reverse =True)\n",
    "print(\"Average total earnings per education level:\")\n",
    "list(map(lambda i:print(i),output))\n",
    "print()"
   ]
  },
  {
   "cell_type": "code",
   "execution_count": 3,
   "id": "b40fc8ef",
   "metadata": {},
   "outputs": [
    {
     "name": "stdout",
     "output_type": "stream",
     "text": [
      "# of people in survey per education level:\n",
      "[26542, 'Bachelor’s degree (B.A., B.S., B.Eng., etc.)']\n",
      "[13112, 'Master’s degree (M.A., M.S., M.Eng., MBA, etc.)']\n",
      "[7239, 'Some college/university study without earning a degree']\n",
      "[7030, 'NA']\n",
      "[4771, 'Secondary school (e.g. American high school, German Realschule or Gymnasium, etc.)']\n",
      "[1843, 'Associate degree (A.A., A.S., etc.)']\n",
      "[1690, 'Other doctoral degree (Ph.D., Ed.D., etc.)']\n",
      "[941, 'Primary/elementary school']\n",
      "[800, 'Professional degree (JD, MD, etc.)']\n",
      "[493, 'I never completed any formal education']\n",
      "\n"
     ]
    }
   ],
   "source": [
    "#calculating number of people, and adding to list\n",
    "people = []\n",
    "people.append(len(associate))\n",
    "people.append(len(bachelor))\n",
    "people.append(len(notCompleted))\n",
    "people.append(len(master))\n",
    "people.append(len(na))\n",
    "people.append(len(doctoral))\n",
    "people.append(len(primary))\n",
    "people.append(len(pro))\n",
    "people.append(len(secondary))\n",
    "people.append(len(college))\n",
    "\n",
    "#sorting output and printing number of people per education level\n",
    "output2 = list(map(lambda x,y: [y,x],categories,people))\n",
    "output2 = sorted(output2, reverse =True)\n",
    "print(\"# of people in survey per education level:\")\n",
    "list(map(lambda i:print(i),output2))\n",
    "print()"
   ]
  },
  {
   "cell_type": "markdown",
   "id": "c816bf5c",
   "metadata": {},
   "source": [
    "Note: While attempting to create a graph using matplot, the values using e+... would not be properly recognized as much larger values than the other ones in the list, causing the graph to not output correctly"
   ]
  },
  {
   "cell_type": "markdown",
   "id": "7594411b",
   "metadata": {},
   "source": [
    "When we run this search we can see that while a degree such as a Bachelor's can earn you a lot of money, it is not the only option, as the average salary for those who only finished primary/elementary school or didn't finish their degree in post-secondary came right after the Bachelor's (respectively).\n",
    "We can also see that at the bottom of the ranking that many degrees (while still paying well), were actually far below the average salary of those with less education. This does not seem to be heavily influenced by the number of respondents in each category, as the categories with fewer people typically had a much lower salary. However, these results are excluding the respondents who selected NA for their education level, as it is not possible to properly place them without figuring out their actual education level. Had we been able to do so the values may have changed slightly, but given the large differences between the average total salaries, it is unlikely that the rankings would drastically change. "
   ]
  }
 ],
 "metadata": {
  "kernelspec": {
   "display_name": "Python 3 (ipykernel)",
   "language": "python",
   "name": "python3"
  },
  "language_info": {
   "codemirror_mode": {
    "name": "ipython",
    "version": 3
   },
   "file_extension": ".py",
   "mimetype": "text/x-python",
   "name": "python",
   "nbconvert_exporter": "python",
   "pygments_lexer": "ipython3",
   "version": "3.8.12"
  }
 },
 "nbformat": 4,
 "nbformat_minor": 5
}
